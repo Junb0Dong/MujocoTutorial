{
 "cells": [
  {
   "cell_type": "markdown",
   "metadata": {},
   "source": [
    "# Tutorial for Robotic Modeling using Mujoco \n",
    "\n",
    "This tutorial covers the basics of the physics modeling with Mujoco. We will primarily focus on rigid-body systems that are prevalent in most robotic applications. \n",
    "\n",
    "## Principles of Physics Modeling\n",
    "In order to simulate a physical system, we typically need to tell the simulator three things:\n",
    "1. **System models**, often described as ODE/PDE or just functions. Often times, it is hard to derive analytically the system (differential) equations. Therefore, the most important functionality of a simulator is to allow the user to easily specify physical properties and automatically translate these properties into (differential) equations. For rigid body robotic systems, we need to tell the simulator:\n",
    "   - **Muti-body system**: articulated rigid body system consists of multiple rigid bodies connected through joints. We need to define each body and describe its physical properties (e.g. pos, orientation, inertia matrix, etc), and how it is connected to adjacent bodies (through joints) \n",
    "   - **Environment/interaction**: gravity direction, ground, table, obstacle, wall, person, other robots, etc. How the robot interacts with the environments depends on many physical properties that can be modified, including friction, contact, collision mechanisms, \n",
    "   - **Actuators/sensors**: robot's motion is completely determined by each joint's motion. Joint's motion is determined by sensing and actuation strategies. The simulation is about the closed-loop behavior of the robot's motion and its interaction with the environment. \n",
    "2. **Physics Engine**: This part determines how to solve the (differential) equations associated with the specified robot-environment physical system. Parameters that can be modified include simulation time step, integrator (Euler, RK4, implicit, implicitfast), tolerance (to terminate iterative solver), constraint solver (PGS, CG, Newton), number of iterations (for constraint solver), etc. For Mujoco xml, these parameters are mostly specified through the \\<option\\> element. \n",
    "3. **Visualization**: This part determines how to visualize the robotic system scene. In Mujoco xml, some key visualization components are listed below:\n",
    "   -  **light**: body/light will create a light, which moves with the body where it is defined. To create a fixed light, define it in the world body. The lights created here are in addition to the default headlight which is always defined and is adjusted via the visual element. The maximum number of lights that can be active simultaneously is 8, counting the headlight.\n",
    "   -  **Camera**: body/⁠camera creates a camera, which moves with the body where it is defined. To create a fixed camera, define it in the world body. ca\n",
    "   -  **geom**: body/⁠geom creates a geom, and attaches it rigidly to the body within which the geom is defined. Multiple geoms can be attached to the same body. At runtime they determine the appearance and collision properties of the body. \n",
    "   -  **Material**: asset/⁠material creates a material asset. It can be referenced from skins, geoms, sites and tendons to set their appearance. For rigid-body system, material is referenced from geom associated with a body. \n",
    "   - **Body vs Geom**: \\<body\\>: Represents a rigid entity with mass, inertia, and movable via joints. It does not have a shape until \\<geom\\> elements are attached to it. While \\<geom\\>: Defines the shape and size, used for collisions and visualization. It does not have mass or inertia, but can have density specified to infer mass. \n",
    "\n"
   ]
  },
  {
   "cell_type": "markdown",
   "metadata": {},
   "source": [
    "# XML Dictionary\n",
    "This part summerizes key elements in a Mujoco XML model that is important for rigid-body robotic systems. Complete and detailed information can be found in the official website \n",
    "https://mujoco.readthedocs.io/en/latest/XMLreference.html\n",
    "\n",
    "\n",
    "\n",
    "## Frame orientation:\n",
    "\n",
    "The frame orientation is specified using at most one of these attributes. The quat attribute has a default value corresponding to the null rotation, while the others are initialized in the special undefined state. Thus if none of these attributes are specified by the user, the frame is not rotated.\n",
    "\n",
    "- quat: real(4), “1 0 0 0”\n",
    "  If the quaternion is known, this is the preferred was to specify the frame orientation because it does not involve conversions. Instead it is normalized to unit length and copied into mjModel during compilation. When a model is saved as MJCF, all frame orientations are expressed as quaternions using this attribute.\n",
    "\n",
    "- axisangle: real(4), optional\n",
    "  These are the quantities (x,y,z,a) mentioned above. The last number is the angle of rotation, in degrees or radians as specified by the angle attribute of compiler. The first three numbers determine a 3D vector which is the rotation axis. This vector is normalized to unit length during compilation, so the user can specify a vector of any non-zero length. Keep in mind that the rotation is right-handed; if the direction of the vector (x,y,z) is reversed this will result in the opposite rotation. Changing the sign of a can also be used to specify the opposite rotation.\n",
    "\n",
    "- euler: real(3), optional\n",
    "  Rotation angles around three coordinate axes. The sequence of axes around which these rotations are applied is determined by the eulerseq attribute of compiler and is the same for the entire model.\n",
    "\n",
    "- xyaxes: real(6), optional\n",
    "  The first 3 numbers are the X axis of the frame. The next 3 numbers are the Y axis of the frame, which is automatically made orthogonal to the X axis. The Z axis is then defined as the cross-product of the X and Y axes.\n",
    "\n",
    "- zaxis: real(3), optional\n",
    "  The Z axis of the frame. The compiler finds the minimal rotation that maps the vector (0,0,1) into the vector specified here. This determines the X and Y axes of the frame implicitly. This is useful for geoms with rotational symmetry around the Z axis, as well as lights – which are oriented along the Z axis of their frame.\n"
   ]
  },
  {
   "cell_type": "markdown",
   "metadata": {},
   "source": [
    "## body\n",
    "- need to specify: name (optional), pos, orientation (see frame orientation section), and important sub-element (geom, inertia, joint, etc)\n",
    "\n",
    "### body/inertial:\n",
    "- This element specifies the mass and inertial properties of the body. If this element is not included in a given body, the inertial properties are inferred from the geoms attached to the body. When a compiled MJCF model is saved, the XML writer saves the inertial properties explicitly using this element, even if they were inferred from geoms. The inertial frame is such that its center coincides with the center of mass of the body, and its axes coincide with the principal axes of inertia of the body. Thus the inertia matrix is diagonal in this frame.\n",
    "- *pos*: position of inertial frame. \n",
    "- *orientation*: of the inertial frame\n",
    "- *mass*: positive number required\n",
    "- *diaginertia* (real(3)): diagonal entries of the inertial matrix;\n",
    "- *fullinertia*: real(6): Full inertia matrix M. Since M is 3-by-3 and symmetric, it is specified using only 6 numbers in the following order: M(1,1), M(2,2), M(3,3), M(1,2), M(1,3), M(2,3). \n",
    "\n",
    "### body/joint\n",
    "A joint creates motion degrees of freedom between the body where it is defined and the body’s parent. If no joints are defined, the body is welded to its parent. Joints cannot be defined in the world body. At runtime the positions and orientations of all joints defined in the model are stored in the vector mjData.qpos, in the order in which they appear in the kinematic tree. The linear and angular velocities are stored in the vector mjData.qvel. These two vectors have different dimensionality when free or ball joints are used, because such joints represent rotations as unit quaternions.\n",
    "  - **name**, **class**: optional \n",
    "  - **type**: \n",
    "    - *free*: 6Dof joint. This joint type is only allowed in bodies that are children of the world body. Free joints do not have a position within the body frame. Instead the joint position is assumed to coincide with the center of the body frame. Thus at runtime the position and orientation data of the free joint correspond to the global position and orientation of the body frame. Free joints cannot have limits.\n",
    "    - *slide*: a sliding or prismatic joint with one translational degree of freedom. Such joints are defined by a position and a sliding direction. For simulation purposes only the direction is needed; the joint position is used for rendering purposes.\n",
    "    - *hinge*: The rotation takes place around a specified axis through a specified position. This is the most common type of joint and is therefore the default. \n",
    "  - **pos**: Position of the joint, specified in the frame of the body where the joint is defined. For free joints this attribute is ignored.\n",
    "  - **axis**: This attribute specifies the axis of rotation for hinge joints and the direction of translation for slide joints.\n",
    "\n",
    "### body/geom\n",
    "- need to specify: name (optional), class (optional), pos, orientation (see frame orientation section), type, size (different meanings for different types), material (reference to materials defined in assets), rgba, among others. \n",
    "  \n",
    "- **type**: (default: \"sphere\")\n",
    "  - \"box\": The box type defines a box. Three size parameters are required, corresponding to the half-sizes of the box along the X, Y and Z axes of the geom’s frame. \n",
    "  - \"cylinder\": defines a cylinder, which requires two size parameters: the radius and half-height of the cylinder. The cylinder is oriented along the Z axis of the geom’s frame. \n",
    "  - \"mesh\": defines a mesh. The geom must reference the desired mesh asset with the mesh attribute. Note that mesh assets can also be referenced from other geom types, causing primitive shapes to be fitted; see below. The size is determined by the mesh asset and the geom size parameters are ignored.\n",
    "- **fromto**: This attribute can only be used with capsule, box, cylinder and ellipsoid geoms. It provides an alternative specification of the geom length as well as the frame position and orientation. The six numbers are the 3D coordinates of one point followed by the 3D coordinates of another point. \n",
    "- **pos**: (x,y,z) position \n",
    "- orietation related: see frame orietation section\n",
    "- **material**: \n",
    "- **rgba**: \n"
   ]
  },
  {
   "cell_type": "markdown",
   "metadata": {},
   "source": [
    "## asset\n",
    "Assets are not in themselves model elements. Model elements can reference them, in which case the asset somehow changes the properties of the referencing element. One asset can be referenced by multiple model elements. Since the sole purpose of including an asset is to reference it, and referencing can only be done by name, every asset has a name (which may be inferred from a file name when applicable).\n",
    "\n",
    "### asset/mesh\n",
    "MuJoCo works with triangulated meshes. They can be loaded from binary STL files, OBJ files or MSH files. \n",
    "\n",
    "### asset/material\n",
    "It can be referenced from skins, geoms, sites and tendons to set their appearance. Materials are useful for adjusting appearance properties beyond color."
   ]
  },
  {
   "cell_type": "markdown",
   "metadata": {},
   "source": [
    "# Python Examples"
   ]
  },
  {
   "cell_type": "markdown",
   "metadata": {},
   "source": [
    "## Example 1: Geometric objects"
   ]
  },
  {
   "cell_type": "code",
   "execution_count": 6,
   "metadata": {},
   "outputs": [],
   "source": [
    "import numpy as np\n",
    "import mujoco\n",
    "import mujoco.viewer as viewer\n",
    "\n",
    "xmlModel = \"\"\"\n",
    "<mujoco>\n",
    "  <worldbody>\n",
    "    <geom name=\"red_box\" type=\"box\" pos=\"0 0 0\" size=\".2 .2 .2\" rgba=\"1 0 0 1\"/>\n",
    "    <geom name=\"blue_sphere\" pos=\".2 .2 .2\" size=\".1\" rgba=\"0 0 1 1\"/>\n",
    "  </worldbody>\n",
    "</mujoco>\n",
    "\"\"\"\n",
    "model = mujoco.MjModel.from_xml_string(xmlModel)\n",
    "data = mujoco.MjData(model)\n",
    "viewer.launch(model,data)\n"
   ]
  },
  {
   "cell_type": "markdown",
   "metadata": {},
   "source": [
    "If we modify the position of the box and sphere, they do not move. They are geometric objects only for visulization. In order for them to move, they need to be attached to a body with motion freedom specified by a joint. Before adding joint, we first use asset to specify material and texture, use \\<default\\> to change the default setting for the geom element"
   ]
  },
  {
   "cell_type": "code",
   "execution_count": 2,
   "metadata": {},
   "outputs": [],
   "source": [
    "xml_ground = \"\"\"\n",
    "<mujoco>\n",
    "  <asset>  \n",
    "    <texture name=\"grid\" type=\"2d\" builtin=\"checker\" rgb1=\".1 .2 .3\"\n",
    "     rgb2=\".2 .3 .4\" width=\"300\" height=\"300\" mark=\"none\"/>\n",
    "    <material name=\"grid\" texture=\"grid\" texrepeat=\"6 6\" texuniform=\"true\" reflectance=\".2\"/>\n",
    "    <material name=\"wall\" rgba='.5 .5 .5 1'/>\n",
    "  </asset>\n",
    "  <default>\n",
    "    <geom type=\"box\" size=\".05 .05 .05\" />\n",
    "  </default>\n",
    "\n",
    "  <worldbody>\n",
    "    <light name=\"light\" pos=\"-.2 0 1\"/>\n",
    "    <geom name=\"ground\" type=\"plane\" size=\".5 .5 10\" material=\"grid\" friction=\".1\"/>\n",
    "    <camera name=\"y\" pos=\"-.1 -.6 .3\" xyaxes=\"1 0 0 0 1 2\"/>\n",
    "    <geom name=\"red_box\" pos=\"0 0 0.2\" type=\"box\" size=\".2 .2 .2\" rgba=\"1 0 0 1\"/>\n",
    "    <geom name=\"blue_sphere\" pos=\".2 .2 .2\" size=\".1\" rgba=\"0 0 1 1\"/>\n",
    "  </worldbody>\n",
    "</mujoco>\n",
    "\"\"\"\n",
    "model = mujoco.MjModel.from_xml_string(xml_ground)\n",
    "data = mujoco.MjData(model)\n",
    "viewer.launch(model,data)"
   ]
  },
  {
   "cell_type": "markdown",
   "metadata": {},
   "source": [
    "## Example 2： Multi-body Robotic Systems\n",
    "\n",
    "Now let's add a body and a joint to the world frame (worldbody). Simulate the physical motion caused by gravity. "
   ]
  },
  {
   "cell_type": "code",
   "execution_count": 37,
   "metadata": {},
   "outputs": [],
   "source": [
    "xml = \"\"\"\n",
    "<mujoco>\n",
    "    <option gravity=\"0 0 -9.81\"/>        \n",
    "  <worldbody>\n",
    "  <geom name=\"ground\" type=\"plane\" pos=\"0 0 -0.25\" size=\"10 10 10\"/>\n",
    "    <light name=\"top\" pos=\"0 0 1\"/>\n",
    "    <body name=\"box_and_sphere\" euler=\"0 0 -30\">\n",
    "      <joint name=\"swing\" type=\"hinge\" axis=\"1 0 0\" pos=\"-.2 -.2 -.2\"/>\n",
    "      \n",
    "      <geom name=\"red_box\" type=\"box\" size=\".2 .2 .2\" rgba=\"1 0 0 1\"/>\n",
    "      <geom name=\"green_sphere\" pos=\".2 .2 .2\" size=\".1\" rgba=\"0 1 0 1\"/>\n",
    "    </body>\n",
    "  </worldbody>\n",
    "</mujoco>\n",
    "\"\"\"\n",
    "model = mujoco.MjModel.from_xml_string(xml)\n",
    "data = mujoco.MjData(model)\n",
    "viewer.launch(model,data)"
   ]
  },
  {
   "cell_type": "markdown",
   "metadata": {},
   "source": [
    "Now let's have a scene with ground (modeled as plane) and two boxes. The box can move freely in space, which is modeled as a \"free\" joint relative to the worldbody. You can modify the friction coefficients to see the resulting sliding motion. "
   ]
  },
  {
   "cell_type": "code",
   "execution_count": 68,
   "metadata": {},
   "outputs": [],
   "source": [
    "xml3 = \"\"\"\n",
    "<mujoco>\n",
    "  <asset>  \n",
    "    <texture name=\"grid\" type=\"2d\" builtin=\"checker\" rgb1=\".1 .2 .3\"\n",
    "     rgb2=\".2 .3 .4\" width=\"300\" height=\"300\" mark=\"none\"/>\n",
    "    <material name=\"grid\" texture=\"grid\" texrepeat=\"6 6\"\n",
    "     texuniform=\"true\" reflectance=\".2\"/>\n",
    "     <material name=\"wall\" rgba='.5 .5 .5 1'/>\n",
    "  </asset>\n",
    "  <default>\n",
    "    <geom type=\"box\" size=\".05 .05 .05\" />\n",
    "    <joint type=\"free\"/>\n",
    "  </default>\n",
    "\n",
    "  <worldbody>\n",
    "    <light name=\"light\" pos=\"-.2 0 1\"/>\n",
    "    <geom name=\"ground\" type=\"plane\" size=\"10 10 10\" material=\"grid\"\n",
    "     zaxis=\"-.3 0 1\" friction=\".5\"/>\n",
    "    <camera name=\"y\" pos=\"-.1 -.6 .3\" xyaxes=\"1 0 0 0 1 2\"/>\n",
    "    <body pos=\"0 1 .3\">\n",
    "      <joint/>\n",
    "      <geom friction=\"0.3\"/>\n",
    "    </body>\n",
    "    <body pos=\"0 0 .3\">\n",
    "      <joint/>\n",
    "      <geom friction=\"1\"/>\n",
    "    </body>\n",
    "  </worldbody>\n",
    "\n",
    "</mujoco>\n",
    "\"\"\"\n",
    "\n",
    "# load\n",
    "model = mujoco.MjModel.from_xml_string(xml3)\n",
    "data = mujoco.MjData(model)\n",
    "viewer.launch(model,data)\n"
   ]
  },
  {
   "cell_type": "markdown",
   "metadata": {},
   "source": [
    "Finally, let's have a multi-body robot (3R)"
   ]
  },
  {
   "cell_type": "code",
   "execution_count": 71,
   "metadata": {},
   "outputs": [],
   "source": [
    "xml4=\"\"\"<mujoco model=\"3R_robot\">\n",
    "    <compiler angle=\"radian\"/>\n",
    "    <asset>  \n",
    "        <texture name=\"grid\" type=\"2d\" builtin=\"checker\" rgb1=\".1 .2 .3\"\n",
    "        rgb2=\".2 .3 .4\" width=\"300\" height=\"300\" mark=\"none\"/>\n",
    "        <material name=\"grid\" texture=\"grid\" texrepeat=\"6 6\"\n",
    "         texuniform=\"true\" reflectance=\".2\"/>\n",
    "         <material name=\"wall\" rgba='.5 .5 .5 1'/>\n",
    "    </asset>\n",
    "    <default>\n",
    "        <joint type=\"hinge\" axis=\"0 0 1\" limited=\"true\"/>\n",
    "        <geom type=\"cylinder\" size=\".025 .1\" />\n",
    "    </default>\n",
    "\n",
    "    <worldbody>\n",
    "        <light diffuse=\".5 .5 .5\" pos=\"0 0 3\" dir=\"0 0 -1\"/>\n",
    "        <geom type=\"plane\" size=\"1 1 0.1\" material=\"grid\"/>\n",
    "        \n",
    "        <body name=\"BaseLink\" pos=\"0 0 0.1\">  \n",
    "            <geom/>    \n",
    "            <body name=\"link1\" pos=\"0.1 0 0.1\" euler=\"0 1.57 0\">\n",
    "                <joint name=\"joint2\" range=\"-1.57079 1.57079\"/>\n",
    "                <geom rgba=\".6 .2 .2 1\"/>\n",
    "                <body name=\"link3\" pos=\"0 0 0.2\">\n",
    "                    <joint name=\"joint3\" range=\"-1.57079 1.57079\" axis=\"1 0 0\"/>\n",
    "                    <geom rgba=\".2 .6 1 1\"/>\n",
    "                    <site name=\"end_effector\" pos=\"0 0 0.1\" size=\"0.01\"/>\n",
    "                </body>\n",
    "            </body>\n",
    "        </body>\n",
    "\n",
    "    </worldbody>\n",
    "    <keyframe>\n",
    "        <!-- Initial configuration -->\n",
    "        <key name=\"initial_pose\" qpos=\"1.57 1.57\"/>        \n",
    "        <!-- Bent configuration -->\n",
    "        <key name=\"bent_pose\" qpos=\"1.57079 0.78539\"/>\n",
    "    </keyframe>\n",
    "\n",
    "</mujoco>\"\"\"\n",
    "# load\n",
    "model = mujoco.MjModel.from_xml_string(xml4)\n",
    "\n",
    "data = mujoco.MjData(model)\n",
    "mujoco.mj_resetDataKeyframe(model, data, 1)\n",
    "\n",
    "viewer.launch(model,data)"
   ]
  }
 ],
 "metadata": {
  "kernelspec": {
   "display_name": "Python 3.8.10 ('drake')",
   "language": "python",
   "name": "python3"
  },
  "language_info": {
   "codemirror_mode": {
    "name": "ipython",
    "version": 3
   },
   "file_extension": ".py",
   "mimetype": "text/x-python",
   "name": "python",
   "nbconvert_exporter": "python",
   "pygments_lexer": "ipython3",
   "version": "3.10.14"
  },
  "orig_nbformat": 4,
  "vscode": {
   "interpreter": {
    "hash": "8a22458cb8192c0849e7dde08b44f10320ff43659604b3847bd44f184aa300e1"
   }
  }
 },
 "nbformat": 4,
 "nbformat_minor": 2
}
